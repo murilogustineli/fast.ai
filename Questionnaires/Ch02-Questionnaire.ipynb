{
 "cells": [
  {
   "cell_type": "markdown",
   "id": "d1d4af61-7985-4c04-8630-cade785a8bfa",
   "metadata": {},
   "source": [
    "# Questionnaire Chapter 2: From Model to Production\n",
    "\n",
    "- [Fastbook Chapter 2 Questionnaire Forum](https://forums.fast.ai/t/fastbook-chapter-2-questionnaire-solutions-wiki/66392)\n",
    "\n",
    "1. Provide an example of where the bear classification model might work poorly in production, due to structural or style differences in the training data.\n",
    "2. Where do text models currently have a major deficiency?\n",
    "3. What are possible negative societal implications of text generation models?\n",
    "4. In situations where a model might make mistakes, and those mistakes could be harmful, what is a good alternative to automating a process?\n",
    "5. What kind of tabular data is deep learning particularly good at?\n",
    "6. What's a key downside of directly using a deep learning model for recommendation systems?\n",
    "7. What are the steps of the Drivetrain Approach?\n",
    "8. How do the steps of the Drivetrain Approach map to a recommendation system?\n",
    "9. Create an image recognition model using data you curate, and deploy it on the web.\n",
    "10. What is `DataLoaders`?\n",
    "11. What four things do we need to tell fastai to create `DataLoaders`?\n",
    "12. What does the `splitter` parameter to `DataBlock` do?\n",
    "13. How do we ensure a random split always gives the same validation set?\n",
    "14. What letters are often used to signify the independent and dependent variables?\n",
    "15. What's the difference between the crop, pad, and squish resize approaches? When might you choose one over the others?\n",
    "16. What is data augmentation? Why is it needed?\n",
    "17. What is the difference between `item_tfms` and `batch_tfms`?\n",
    "18. What is a confusion matrix?\n",
    "19. What does `export` save?\n",
    "20. What is it called when we use a model for getting predictions, instead of training?\n",
    "21. What are IPython widgets?\n",
    "22. When might you want to use CPU for deployment? When might GPU be better?\n",
    "23. What are the downsides of deploying your app to a server, instead of to a client (or edge) device such as a phone or PC?\n",
    "24. What are three examples of problems that could occur when rolling out a bear warning system in practice?\n",
    "25. What is \"out-of-domain data\"?\n",
    "26. What is \"domain shift\"?\n",
    "27. What are the three steps in the deployment process?"
   ]
  },
  {
   "cell_type": "code",
   "execution_count": null,
   "id": "ae1ae86b-8b6b-4a92-b3be-c1ca86713992",
   "metadata": {},
   "outputs": [],
   "source": []
  },
  {
   "cell_type": "code",
   "execution_count": null,
   "id": "3689f4b2-a818-4fa6-abca-4c75be0e5a15",
   "metadata": {},
   "outputs": [],
   "source": []
  },
  {
   "cell_type": "code",
   "execution_count": null,
   "id": "4ca30c1a-2859-47d3-9282-e98e690a0766",
   "metadata": {},
   "outputs": [],
   "source": []
  },
  {
   "cell_type": "code",
   "execution_count": null,
   "id": "271ec4a6-640a-4c14-9629-f3e71022e2be",
   "metadata": {},
   "outputs": [],
   "source": []
  }
 ],
 "metadata": {
  "kernelspec": {
   "display_name": "Python 3",
   "language": "python",
   "name": "python3"
  },
  "language_info": {
   "codemirror_mode": {
    "name": "ipython",
    "version": 3
   },
   "file_extension": ".py",
   "mimetype": "text/x-python",
   "name": "python",
   "nbconvert_exporter": "python",
   "pygments_lexer": "ipython3",
   "version": "3.8.8"
  }
 },
 "nbformat": 4,
 "nbformat_minor": 5
}
