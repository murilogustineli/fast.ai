{
 "cells": [
  {
   "cell_type": "markdown",
   "id": "c18d8c6e-cf39-4c5b-8e75-0fbeccce44f2",
   "metadata": {},
   "source": [
    "# Questionnaire Chapter 4: Training a Digit Classifier\n",
    "- [Fastbook Chapter 4 Questionnaire Forum Solutions](https://forums.fast.ai/t/fastbook-chapter-4-questionnaire-solutions-wiki/67253)\n",
    "\n",
    "1. How is a grayscale image represented on a computer? How about a color image?\n",
    "\n",
    "> Images are represented by arrays with pixel values representing the content of the image. For greyscale images, a 2-dimensional array is used with the pixels representing the greyscale values, with a range of 256 integers. A value of 0 would represent white, and a value of 255 represents black, and different shades of greyscale in between. For color images, three color channels (red, green, blue) are typicall used, with a separate 256-range 2D array used for each channel. A pixel value of 0 again represents white, with 255 representing solid red, green, or blue. The three 2-D arrays form a final 3-D array (rank 3 tensor) representing the color image.\n",
    "\n",
    "2. How are the files and folders in the `MNIST_SAMPLE` dataset structured? Why?\n",
    "\n",
    "> The `MNIST` dataset follows a common layout for ML datasets: separate folders for the training set and the validation (and/or test) set. Every practicioner could generate their own train/validation-split of the data. Public datasets are usually pre-split to simplifiy comparing results between implementations/publications.\n",
    ">\n",
    "> fastai `MNIST_SAMPLE` has two subfolders two subsubfolders 3 and 7 which contain the .jpg files for the respective class of images. This is a common way of organizing datasets comprised of pictures. For the full `MNIST` dataset there are 10 subsubfolders, one for the images for each digit.\n",
    "\n",
    "3. Explain how the \"pixel similarity\" approach to classifying digits works.\n",
    "\n",
    "> The main idea is to find the average pixel value for every pixel of the 3s, then do the same for the 7s. This will give two group averages, defining what we might call the \"ideal\" 3 and 7. Then, to classify an image as one digit or the other, we see which of these two ideal digits the image is most similar to.\n",
    "\n",
    "4. What is a list comprehension? Create one now that selects odd numbers from a list and doubles them.\n",
    "\n",
    "> Solution at the end of the notebook.\n",
    "\n",
    "5. What is a \"rank-3 tensor\"?\n",
    "\n",
    "> It's a tensor with 3 dimensions. The rank of a tensor is the number of dimensions it has. In particular, the rank of a tensor is independent of its shape or dimensionality, e.g., a tensor of shape 2x2x2 and a tensor of shape 3x5x7 both have rank 3. Note that the term “rank” has different meanings in the context of tensors and matrices (where it refers to the number of linearly independent column vectors).\n",
    "\n",
    "6. What is the difference between tensor rank and shape? How do you get the rank from the shape?\n",
    "\n",
    "> __*Rank*__ is the number of axes or dimensions in a tensor; __*shape*__ is the size of each axis of a tensor.\n",
    "\n",
    "7. What are RMSE and L1 norm?\n",
    "\n",
    "> Root mean squared error (RMSE), also called the L2 norm, and mean absolute difference (MAE), also called the L1 norm, are two commonly used methods of measuring “distance”. \n",
    ">\n",
    "> In the context of machine learning, the L2 norm penalizes large errors more than small errors, so optimizing with an L2 loss function will reduce the greatest errors, but be insensitive to small errors.\n",
    ">\n",
    "> Similarly, an L2 regularizer will reduce the largest weights. An L1 regularizer is equally incentivized to reduce all weights, so it will drive some to zero while leaving others large. L1 regularization can therefore produce a sparse model.\n",
    "\n",
    "8. How can you apply a calculation on thousands of numbers at once, many thousands of times faster than a Python loop?\n",
    "\n",
    "> As loops are very slow in Python, it is best to represent the operations as array operations rather than looping through individual elements. If this can be done, then using NumPy or PyTorch will be thousands of times faster, as they use underlying C code which is much faster than pure Python. Even better, PyTorch allows you to run operations on GPU, which will have significant speedup if there are parallel operations that can be done.\n",
    "\n",
    "9. Create a 3×3 tensor or array containing the numbers from 1 to 9. Double it. Select the bottom-right four numbers.\n",
    "\n",
    "> Solution at the end of the notebook.\n",
    "\n",
    "10. What is broadcasting?\n",
    "\n",
    "> Scientific/numerical Python packages like NumPy and PyTorch often implement broadcasting which makes code easier to write. In the case of PyTorch, tensors with smaller rank are expanded to have the same size as the larger rank tensor. In this way, operations can be performed between tensors with different rank.\n",
    "\n",
    "11. Are metrics generally calculated using the training set, or the validation set? Why?\n",
    "\n",
    "> We use the __*validation set*__ to calculate metrics because we don't want the model to overfit - that is, train a model to work well only on our training data.\n",
    "\n",
    "12. What is SGD?\n",
    "\n",
    "> Stochastic Gradient Descent (SGD) is an optimization algorithm that updates the parameters of a model to minimize a given loss function that was evaluated on the predictions and target. The main idea behind SGD is that the gradient of the loss function determines the best way to update the parameters to minimize the loss function.\n",
    "\n",
    "13. Why does SGD use mini-batches?\n",
    "\n",
    "> After identifying a loss function to train the network, the next step is to change or update the weights based on the gradients. This is called an optimization step. To take an optimization step, we need to calculate the loss over one or more data items. We can use __*mini-batches*__ to do this.\n",
    "> \n",
    "> __*Mini-batches*__ are a small group of inputs and labels gathered together. It makes the training process quicker and more accurate. Also, we usually use GPUs to train the model. GPUs can perform better if they have lots of computations to do at a time. Thus, it's helpful to give them lots of data items to compute. Using __*mini-batches*__ is one of the best ways to do this.\n",
    ">\n",
    "> However, GPUs can run out of memory if too much work is performed at the same time. Hence, it's a tricky task to choose the right batch size to train a neural network. Thankfully, there are techniques we can use to help us choose the right batch size.\n",
    "\n",
    "14. What are the seven steps in SGD for machine learning?\n",
    "\n",
    "> 1. __*Initialize*__ the weights - random values often work best.\n",
    "> 2. Calculate the __*predictions*__ - this is done on the training set, one mini-batch at a time.\n",
    "> 3. Calculate the __*loss*__ - how good the model is. The average loss over the minibatch is calculated.\n",
    "> 4. Calculate the __*gradient*__ - measures how much changing the weights would optimize the loss function.\n",
    "> 5. __*Step*__ (change) the weights - update the parameters based on the calculated weights.\n",
    "> 6. __*Repeat*__ the process from step 2 until we reach desired output.\n",
    "> 7. __*Stop*__ training - based on time constraints or when the training/validation losses and metrics stop improving.\n",
    "\n",
    "15. How do we initialize the weights in a model?\n",
    "\n",
    "> We initialize the weights to random values.\n",
    "\n",
    "16. What is \"loss\"?\n",
    "\n",
    "> It's a __*function*__ that returns a __*value*__ that represents how well (or badly) the model is doing during training. Lower values correspond to better model predictions.\n",
    "\n",
    "17. Why can't we always use a high learning rate?\n",
    "\n",
    "> The loss may “bounce” around (oscillate) or even diverge, as the optimizer is taking steps that are too large, and updating the parameters faster than it should be.\n",
    "\n",
    "18. What is a \"gradient\"?\n",
    "\n",
    "> The gradient tells the direction in which the weights should be updated to optimize the local minimum of the loss function.\n",
    ">\n",
    "> In other words, the gradients tell us how much we have to change each weight to make our model better. It is essentially a measure of how the loss function changes with changes of the weights of the model (the derivative).\n",
    "\n",
    "19. Do you need to know how to calculate gradients yourself?\n",
    "\n",
    "> Nope, not at all. PyTorch does that for us! This feature is known as automatic differentiation. In PyTorch we can track the gradients using the `requires_grad_()` method.\n",
    "\n",
    "20. Why can't we use accuracy as a loss function?\n",
    "\n",
    "> Because a small change in the weight values is not likely to cause any change in predictions using accuracy. Most of the time the gradients would be 0 if we used accuracy as the loss function.\n",
    ">\n",
    "> In mathematical terms, accuracy is a function that is constant almost everywhere (except at the threshold, 0.5), so its derivative is nil almost everywhere (and infinity at the threshold). This then gives gradients that are 0 or infinite, which are useless for updating the model.\n",
    "\n",
    "21. Draw the sigmoid function. What is special about its shape?\n",
    "\n",
    "> Graph at the end of the notebook.\n",
    ">\n",
    "> The sigmoid function is a smooth curve that takes any input value (positive or negative) and converts into an output value between 0 and 1.\n",
    "\n",
    "22. What is the difference between a loss function and a metric?\n",
    "\n",
    "> The main difference is that metrics drive human understanding and losses drive automated learning. In order for loss to be useful for training, it needs to have a meaningful derivative. Many metrics, like accuracy, are not like that. Metrics instead are the numbers that humans care about, that reflect the performance of the model.\n",
    "\n",
    "23. What is the function to calculate new weights using a learning rate?\n",
    "\n",
    "> The optimizer step function.\n",
    "\n",
    "24. What does the `DataLoader` class do?\n",
    "\n",
    "> The DataLoader class can take any Python collection and turn it into an iterator over many batches.\n",
    "\n",
    "25. Write pseudocode showing the basic steps taken in each epoch for SGD.\n",
    "\n",
    "        for x,y in dl:\n",
    "        pred = model(x)                     # make predictions\n",
    "        loss = loss_func(pred, y)           # calculate loss\n",
    "        loss.backward()                     # calculate gradients\n",
    "        parameters -= parameters.grad * lr  # update parameters\n",
    "\n",
    "\n",
    "26. Create a function that, if passed two arguments `[1,2,3,4]` and `'abcd'`, returns `[(1, 'a'), (2, 'b'), (3, 'c'), (4, 'd')]`. What is special about that output data structure?\n",
    "\n",
    "> Solution at the end of the notebook.\n",
    "\n",
    "27. What does `view` do in PyTorch?\n",
    "\n",
    "> Returns a new tensor with the same data as the `self` tensor but of a different `shape`.\n",
    "\n",
    "28. What are the \"bias\" parameters in a neural network? Why do we need them?\n",
    "\n",
    "> Without the bias parameters, if the input is zero, the output will always be zero. Therefore, using bias parameters adds additional flexibility to the model.\n",
    "\n",
    "29. What does the `@` operator do in Python?\n",
    "\n",
    "> Performs matrix multiplication.\n",
    "\n",
    "30. What does the `backward` method do?\n",
    "\n",
    "> Computes the gradient of the loss with respect to all model parameters.\n",
    "\n",
    "31. Why do we have to zero the gradients?\n",
    "\n",
    "> PyTorch will add the gradients of a variable to any previously stored gradients. If the training loop function is called multiple times, without zeroing the gradients, the gradient of current `loss` would be added to the previously stored gradient value.\n",
    "\n",
    "32. What information do we have to pass to `Learner`?\n",
    "\n",
    "> We need to pass in the DataLoaders, the model, the optimization function, the loss function, and any metrics to print.\n",
    "\n",
    "\n",
    "        learn = Learner(dls, nn.Linear(28*28,1), opt_func=SGD,\n",
    "                        loss_func=mnist_loss, metrics=batch_accuracy)\n",
    "\n",
    "\n",
    "33. Show Python or pseudocode for the basic steps of a training loop.\n",
    "\n",
    "        def train_epoch(model, lr, params):\n",
    "            for xb,yb in dl:\n",
    "                calc_grad(xb, yb, model)\n",
    "                for p in params:\n",
    "                    p.data -= p.grad*lr\n",
    "                    p.grad.zero_()\n",
    "        for i in range(20):\n",
    "            train_epoch(model, lr, params)\n",
    "                \n",
    "\n",
    "34. What is \"ReLU\"? Draw a plot of it for values from `-2` to `+2`.\n",
    "\n",
    "> Rectified Linear Unit (ReLu) is an activation function that returns 0 for negative values and doesn't change positive values.\n",
    "\n",
    "35. What is an \"activation function\"?\n",
    "\n",
    "> An activation function is a nonlinear function used to train a neural network by defining the output of a neuron given a\n",
    "set of inputs. This function is used in every neuron of the network to help the network learn the complex patterns in\n",
    "the data, allowing it to make predictions. Moreover, the purpose of activation functions is to introduce nonlinearities\n",
    "into the neural network.\n",
    ">\n",
    "> An artificial neural network is composed of a large number of connected nodes known as perceptrons or neurons. A perceptron (figure below) receives real-valued numerical inputs of a feature (x) and multiplies each input with its associated weights (w) and bias (b) to compute the net input, which is the sum of all connected neurons. The result of net input is passed on to the activation function that mathematically transforms the output into a range of values (e.g., the sigmoid function transforms the inputs into a range between 0 and 1).\n",
    ">\n",
    "> <img src=\"https://i.stack.imgur.com/Waz75.png\" width=700 height=700 />\n",
    ">\n",
    "> For more information, check it out the [survey paper](https://arxiv.org/abs/2204.02921) I wrote about activation functions.\n",
    "\n",
    "36. What's the difference between `F.relu` and `nn.ReLU`?\n",
    "\n",
    "> `F.relu` is a Python function for the relu activation function. On the other hand, `nn.ReLU` is a PyTorch module. This means that it is a Python class that can be called as a function in the same way as `F.relu`.\n",
    "\n",
    "37. The universal approximation theorem shows that any function can be approximated as closely as needed using just one nonlinearity. So why do we normally use more?\n",
    "\n",
    "> There are practical performance benefits to using more than one nonlinearity. We can use a deeper model with less number of parameters, better performance, faster training, and less compute/memory requirements.\n"
   ]
  },
  {
   "cell_type": "code",
   "execution_count": 1,
   "id": "2c2efa10-b5ca-4488-921c-4a8ef9b2a03a",
   "metadata": {},
   "outputs": [],
   "source": [
    "from fastbook import *\n",
    "import torch"
   ]
  },
  {
   "cell_type": "code",
   "execution_count": 2,
   "id": "60883344-48d1-4c2b-8007-fc271325938f",
   "metadata": {},
   "outputs": [
    {
     "data": {
      "text/plain": [
       "[2, 6, 10, 14, 18]"
      ]
     },
     "execution_count": 2,
     "metadata": {},
     "output_type": "execute_result"
    }
   ],
   "source": [
    "# 4. Create a list comprehension that selects odd numbers from a list and doubles them.\n",
    "# List of numbers\n",
    "nums = range(10)\n",
    "\n",
    "# Double odd numbers\n",
    "double_odd = [2*n for n in nums if n % 2 != 0]\n",
    "double_odd"
   ]
  },
  {
   "cell_type": "code",
   "execution_count": 3,
   "id": "411103fb-1f8f-42fe-94a2-65cbe905e117",
   "metadata": {},
   "outputs": [
    {
     "name": "stdout",
     "output_type": "stream",
     "text": [
      "[[1 2 3]\n",
      " [4 5 6]\n",
      " [7 8 9]] \n",
      "\n",
      "[[ 2  4  6]\n",
      " [ 8 10 12]\n",
      " [14 16 18]] \n",
      "\n"
     ]
    },
    {
     "data": {
      "text/plain": [
       "array([[10, 12],\n",
       "       [16, 18]])"
      ]
     },
     "execution_count": 3,
     "metadata": {},
     "output_type": "execute_result"
    }
   ],
   "source": [
    "# 9. Create a 3×3 tensor or array containing the numbers from 1 to 9. Double it. Select the bottom-right four numbers.\n",
    "import numpy as np\n",
    "\n",
    "array = np.array(range(1, 10)).reshape(3, 3)\n",
    "print(array, '\\n')\n",
    "\n",
    "array = array*2\n",
    "print(array, '\\n')\n",
    "\n",
    "array[1:, 1:]"
   ]
  },
  {
   "cell_type": "code",
   "execution_count": 4,
   "id": "f3e39219-c95e-4c80-be91-80bb47a7b37e",
   "metadata": {},
   "outputs": [
    {
     "name": "stdout",
     "output_type": "stream",
     "text": [
      "tensor([[1., 2., 3.],\n",
      "        [4., 5., 6.],\n",
      "        [7., 8., 9.]]) \n",
      "\n",
      "tensor([[ 2.,  4.,  6.],\n",
      "        [ 8., 10., 12.],\n",
      "        [14., 16., 18.]]) \n",
      "\n"
     ]
    },
    {
     "data": {
      "text/plain": [
       "tensor([[10., 12.],\n",
       "        [16., 18.]])"
      ]
     },
     "execution_count": 4,
     "metadata": {},
     "output_type": "execute_result"
    }
   ],
   "source": [
    "tensor = torch.Tensor(range(1, 10)).view(3,3)\n",
    "print(tensor, '\\n')\n",
    "\n",
    "tensor = 2*tensor\n",
    "print(tensor, '\\n')\n",
    "\n",
    "tensor[1:, 1:]"
   ]
  },
  {
   "cell_type": "code",
   "execution_count": 5,
   "id": "a7226b72-9609-4413-a66f-518f04cc8617",
   "metadata": {},
   "outputs": [
    {
     "data": {
      "image/png": "[encoded data removed]",
      "text/plain": [
       "<Figure size 432x288 with 1 Axes>"
      ]
     },
     "metadata": {
      "needs_background": "light"
     },
     "output_type": "display_data"
    }
   ],
   "source": [
    "# 21. Draw the sigmoid function.\n",
    "def sigmoid(x): return 1/(1+torch.exp(-x))\n",
    "\n",
    "plot_function(torch.sigmoid, title='Sigmoid', min=-4, max=4)"
   ]
  },
  {
   "cell_type": "code",
   "execution_count": 6,
   "id": "37834f1f-1c97-46f9-96dd-410d382437dd",
   "metadata": {},
   "outputs": [
    {
     "data": {
      "text/plain": [
       "[(1, 'a'), (2, 'b'), (3, 'c'), (4, 'd')]"
      ]
     },
     "execution_count": 6,
     "metadata": {},
     "output_type": "execute_result"
    }
   ],
   "source": [
    "# 26. Create a function...\n",
    "def func(a,b): return list(zip(a,b))\n",
    "\n",
    "nums = range(1, 5)\n",
    "letters = 'abcd'\n",
    "func(nums, letters)"
   ]
  },
  {
   "cell_type": "markdown",
   "id": "a4a31763-5d04-46c0-923d-2e385b28703d",
   "metadata": {},
   "source": [
    "### Deep learning terminology "
   ]
  },
  {
   "cell_type": "markdown",
   "id": "6d1e48be-8a5e-42ec-854d-74010aec4fae",
   "metadata": {},
   "source": [
    "| Term | Meaning |\n",
    "| ---- | ------- |\n",
    "|ReLU | Function that returns 0 for negative numbers and doesn't change positive numbers. |\n",
    "|Mini-batch | A small group of inputs and labels gathered together in two arrays. A gradient descent step is updated on this batch (rather than a whole epoch). |\n",
    "|Forward pass | Applying the model to some input and computing the predictions. |\n",
    "|Loss | A value that represents how well (or badly) our model is doing. |\n",
    "|Gradient | The derivative of the loss with respect to some parameter of the model. |\n",
    "|Backward pass | Computing the gradients of the loss with respect to all model parameters. |\n",
    "|Gradient descent | Taking a step in the directions opposite to the gradients to make the model parameters a little bit better. |\n",
    "|Learning rate | The size of the step we take when applying SGD to update the parameters of the model. |"
   ]
  }
 ],
 "metadata": {
  "kernelspec": {
   "display_name": "Python 3 (ipykernel)",
   "language": "python",
   "name": "python3"
  },
  "language_info": {
   "codemirror_mode": {
    "name": "ipython",
    "version": 3
   },
   "file_extension": ".py",
   "mimetype": "text/x-python",
   "name": "python",
   "nbconvert_exporter": "python",
   "pygments_lexer": "ipython3",
   "version": "3.10.4"
  }
 },
 "nbformat": 4,
 "nbformat_minor": 5
}
