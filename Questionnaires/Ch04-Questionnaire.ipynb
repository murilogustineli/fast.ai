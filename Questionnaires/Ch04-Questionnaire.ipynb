{
 "cells": [
  {
   "cell_type": "markdown",
   "id": "c18d8c6e-cf39-4c5b-8e75-0fbeccce44f2",
   "metadata": {},
   "source": [
    "# Questionnaire Chapter 4: Training a Digit Classifier\n",
    "\n",
    "1. How is a grayscale image represented on a computer? How about a color image?\n",
    "2. How are the files and folders in the `MNIST_SAMPLE` dataset structured? Why?\n",
    "3. Explain how the \"pixel similarity\" approach to classifying digits works.\n",
    "4. What is a list comprehension? Create one now that selects odd numbers from a list and doubles them.\n",
    "5. What is a \"rank-3 tensor\"?\n",
    "6. What is the difference between tensor rank and shape? How do you get the rank from the shape?\n",
    "7. What are RMSE and L1 norm?\n",
    "8. How can you apply a calculation on thousands of numbers at once, many thousands of times faster than a Python loop?\n",
    "9. Create a 3×3 tensor or array containing the numbers from 1 to 9. Double it. Select the bottom-right four numbers.\n",
    "10. What is broadcasting?\n",
    "11. Are metrics generally calculated using the training set, or the validation set? Why?\n",
    "12. What is SGD?\n",
    "13. Why does SGD use mini-batches?\n",
    "14. What are the seven steps in SGD for machine learning?\n",
    "15. How do we initialize the weights in a model?\n",
    "16. What is \"loss\"?\n",
    "17. Why can't we always use a high learning rate?\n",
    "18. What is a \"gradient\"?\n",
    "19. Do you need to know how to calculate gradients yourself?\n",
    "20. Why can't we use accuracy as a loss function?\n",
    "21. Draw the sigmoid function. What is special about its shape?\n",
    "22. What is the difference between a loss function and a metric?\n",
    "23. What is the function to calculate new weights using a learning rate?\n",
    "24. What does the `DataLoader` class do?\n",
    "25. Write pseudocode showing the basic steps taken in each epoch for SGD.\n",
    "26. Create a function that, if passed two arguments `[1,2,3,4]` and `'abcd'`, returns `[(1, 'a'), (2, 'b'), (3, 'c'), (4, 'd')]`. What is special about that output data structure?\n",
    "27. What does `view` do in PyTorch?\n",
    "28. What are the \"bias\" parameters in a neural network? Why do we need them?\n",
    "29. What does the `@` operator do in Python?\n",
    "30. What does the `backward` method do?\n",
    "31. Why do we have to zero the gradients?\n",
    "32. What information do we have to pass to `Learner`?\n",
    "33. Show Python or pseudocode for the basic steps of a training loop.\n",
    "34. What is \"ReLU\"? Draw a plot of it for values from `-2` to `+2`.\n",
    "35. What is an \"activation function\"?\n",
    "36. What's the difference between `F.relu` and `nn.ReLU`?\n",
    "37. The universal approximation theorem shows that any function can be approximated as closely as needed using just one nonlinearity. So why do we normally use more?"
   ]
  },
  {
   "cell_type": "code",
   "execution_count": 1,
   "id": "37834f1f-1c97-46f9-96dd-410d382437dd",
   "metadata": {},
   "outputs": [
    {
     "data": {
      "text/plain": [
       "[(1, 'a'), (2, 'b'), (3, 'c'), (4, 'd')]"
      ]
     },
     "execution_count": 1,
     "metadata": {},
     "output_type": "execute_result"
    }
   ],
   "source": [
    "# 26. Create a function...\n",
    "def f(nums, letters):\n",
    "    return [(nums[i], letters[i]) for i in range(len(nums))]\n",
    "\n",
    "nums = [1,2,3,4]\n",
    "letters = 'abcd'\n",
    "f(nums, letters)"
   ]
  },
  {
   "cell_type": "code",
   "execution_count": null,
   "id": "b29e28fd-b421-4ebf-907e-3fbcf2db9b00",
   "metadata": {},
   "outputs": [],
   "source": []
  },
  {
   "cell_type": "code",
   "execution_count": null,
   "id": "dbffbbf1-f0d9-4477-8479-262dd8507aea",
   "metadata": {},
   "outputs": [],
   "source": []
  }
 ],
 "metadata": {
  "kernelspec": {
   "display_name": "Python 3",
   "language": "python",
   "name": "python3"
  },
  "language_info": {
   "codemirror_mode": {
    "name": "ipython",
    "version": 3
   },
   "file_extension": ".py",
   "mimetype": "text/x-python",
   "name": "python",
   "nbconvert_exporter": "python",
   "pygments_lexer": "ipython3",
   "version": "3.8.8"
  }
 },
 "nbformat": 4,
 "nbformat_minor": 5
}
